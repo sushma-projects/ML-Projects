{
 "cells": [
  {
   "cell_type": "markdown",
   "metadata": {
    "colab_type": "text",
    "id": "xw4J-LJzuPOr"
   },
   "source": [
    "# markdown"
   ]
  },
  {
   "cell_type": "code",
   "execution_count": 0,
   "metadata": {
    "colab": {
     "base_uri": "https://localhost:8080/",
     "height": 197
    },
    "colab_type": "code",
    "id": "hQKiVG83GjSz",
    "outputId": "e9477e25-3c6c-4e4b-dddb-93862b800ea2"
   },
   "outputs": [
    {
     "name": "stdout",
     "output_type": "stream",
     "text": [
      "number\n"
     ]
    },
    {
     "ename": "ValueError",
     "evalue": "ignored",
     "output_type": "error",
     "traceback": [
      "\u001b[0;31m---------------------------------------------------------------------------\u001b[0m",
      "\u001b[0;31mValueError\u001b[0m                                Traceback (most recent call last)",
      "\u001b[0;32m<ipython-input-40-1a387ada7cac>\u001b[0m in \u001b[0;36m<module>\u001b[0;34m()\u001b[0m\n\u001b[0;32m----> 1\u001b[0;31m \u001b[0ma\u001b[0m \u001b[0;34m=\u001b[0m \u001b[0mint\u001b[0m\u001b[0;34m(\u001b[0m\u001b[0minput\u001b[0m\u001b[0;34m(\u001b[0m\u001b[0;34m)\u001b[0m\u001b[0;34m)\u001b[0m\u001b[0;34m\u001b[0m\u001b[0;34m\u001b[0m\u001b[0m\n\u001b[0m\u001b[1;32m      2\u001b[0m \u001b[0mprint\u001b[0m\u001b[0;34m(\u001b[0m\u001b[0ma\u001b[0m\u001b[0;34m)\u001b[0m\u001b[0;34m\u001b[0m\u001b[0;34m\u001b[0m\u001b[0m\n",
      "\u001b[0;31mValueError\u001b[0m: invalid literal for int() with base 10: 'number'"
     ]
    }
   ],
   "source": [
    "a = int(input())\n",
    "print(a)"
   ]
  },
  {
   "cell_type": "code",
   "execution_count": 0,
   "metadata": {
    "colab": {
     "base_uri": "https://localhost:8080/",
     "height": 51
    },
    "colab_type": "code",
    "id": "xZcfX2KzGtZN",
    "outputId": "7f8bac10-7939-4048-eaae-59ff5dd04d2b"
   },
   "outputs": [
    {
     "name": "stdout",
     "output_type": "stream",
     "text": [
      "10\n",
      "10\n"
     ]
    }
   ],
   "source": [
    "a = int(input())\n",
    "print(a)"
   ]
  },
  {
   "cell_type": "code",
   "execution_count": 0,
   "metadata": {
    "colab": {
     "base_uri": "https://localhost:8080/",
     "height": 197
    },
    "colab_type": "code",
    "id": "HsmHjrhoG6sH",
    "outputId": "81085dcb-f8e8-4915-e97c-fae4e1f346de"
   },
   "outputs": [
    {
     "name": "stdout",
     "output_type": "stream",
     "text": [
      "10.5\n"
     ]
    },
    {
     "ename": "ValueError",
     "evalue": "ignored",
     "output_type": "error",
     "traceback": [
      "\u001b[0;31m---------------------------------------------------------------------------\u001b[0m",
      "\u001b[0;31mValueError\u001b[0m                                Traceback (most recent call last)",
      "\u001b[0;32m<ipython-input-42-1a387ada7cac>\u001b[0m in \u001b[0;36m<module>\u001b[0;34m()\u001b[0m\n\u001b[0;32m----> 1\u001b[0;31m \u001b[0ma\u001b[0m \u001b[0;34m=\u001b[0m \u001b[0mint\u001b[0m\u001b[0;34m(\u001b[0m\u001b[0minput\u001b[0m\u001b[0;34m(\u001b[0m\u001b[0;34m)\u001b[0m\u001b[0;34m)\u001b[0m\u001b[0;34m\u001b[0m\u001b[0;34m\u001b[0m\u001b[0m\n\u001b[0m\u001b[1;32m      2\u001b[0m \u001b[0mprint\u001b[0m\u001b[0;34m(\u001b[0m\u001b[0ma\u001b[0m\u001b[0;34m)\u001b[0m\u001b[0;34m\u001b[0m\u001b[0;34m\u001b[0m\u001b[0m\n",
      "\u001b[0;31mValueError\u001b[0m: invalid literal for int() with base 10: '10.5'"
     ]
    }
   ],
   "source": [
    "a = int(input())\n",
    "print(a)"
   ]
  },
  {
   "cell_type": "code",
   "execution_count": 0,
   "metadata": {
    "colab": {
     "base_uri": "https://localhost:8080/",
     "height": 197
    },
    "colab_type": "code",
    "id": "1od0zF9LHDuW",
    "outputId": "da8ea029-8e24-470a-e9bf-546f1d70b573"
   },
   "outputs": [
    {
     "name": "stdout",
     "output_type": "stream",
     "text": [
      "23\n"
     ]
    },
    {
     "ename": "TypeError",
     "evalue": "ignored",
     "output_type": "error",
     "traceback": [
      "\u001b[0;31m---------------------------------------------------------------------------\u001b[0m",
      "\u001b[0;31mTypeError\u001b[0m                                 Traceback (most recent call last)",
      "\u001b[0;32m<ipython-input-43-7e4aabe09ba0>\u001b[0m in \u001b[0;36m<module>\u001b[0;34m()\u001b[0m\n\u001b[0;32m----> 1\u001b[0;31m \u001b[0ma\u001b[0m \u001b[0;34m=\u001b[0m \u001b[0mstring\u001b[0m\u001b[0;34m(\u001b[0m\u001b[0minput\u001b[0m\u001b[0;34m(\u001b[0m\u001b[0;34m)\u001b[0m\u001b[0;34m)\u001b[0m\u001b[0;34m\u001b[0m\u001b[0;34m\u001b[0m\u001b[0m\n\u001b[0m\u001b[1;32m      2\u001b[0m \u001b[0mprint\u001b[0m\u001b[0;34m(\u001b[0m\u001b[0ma\u001b[0m\u001b[0;34m)\u001b[0m\u001b[0;34m\u001b[0m\u001b[0;34m\u001b[0m\u001b[0m\n",
      "\u001b[0;31mTypeError\u001b[0m: 'str' object is not callable"
     ]
    }
   ],
   "source": [
    "a = string(input())\n",
    "print(a)"
   ]
  },
  {
   "cell_type": "code",
   "execution_count": 0,
   "metadata": {
    "colab": {
     "base_uri": "https://localhost:8080/",
     "height": 68
    },
    "colab_type": "code",
    "id": "SloILUbViCKs",
    "outputId": "53c9da1f-2812-4e0e-c764-f4a4cb9fab75"
   },
   "outputs": [
    {
     "name": "stdout",
     "output_type": "stream",
     "text": [
      "<class 'int'>\n",
      "<class 'str'>\n",
      "<class 'str'>\n"
     ]
    }
   ],
   "source": [
    "a = 100\n",
    "print(type(a))\n",
    "s1 = \"python\"\n",
    "print(type(s1))\n",
    "s2 = str(a)\n",
    "print(type(s2))\n"
   ]
  },
  {
   "cell_type": "markdown",
   "metadata": {
    "colab_type": "text",
    "id": "sJg9iNc-vNWc"
   },
   "source": [
    "# Python\n",
    "## Python\n",
    "### Python\n",
    "#### Python\n",
    "##### Python\n",
    "###### Python"
   ]
  },
  {
   "cell_type": "code",
   "execution_count": 0,
   "metadata": {
    "colab": {
     "base_uri": "https://localhost:8080/",
     "height": 34
    },
    "colab_type": "code",
    "id": "5mcO__DGjwPB",
    "outputId": "eb006b54-e424-4ca3-edc2-8f532f3a116f"
   },
   "outputs": [
    {
     "name": "stdout",
     "output_type": "stream",
     "text": [
      "4\n"
     ]
    }
   ],
   "source": [
    "a = 1234\n",
    "print(len(str(a)))"
   ]
  },
  {
   "cell_type": "markdown",
   "metadata": {
    "colab_type": "text",
    "id": "Kl8KcW_xzJ-a"
   },
   "source": [
    "# Image\n",
    "![text](data:image/jpeg;base64,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)"
   ]
  },
  {
   "cell_type": "markdown",
   "metadata": {
    "colab_type": "text",
    "id": "balmTikkwg2w"
   },
   "source": [
    "# Flower Image\n",
    "![Text](https://cdn.pixabay.com/photo/2015/04/19/08/32/marguerite-729510__340.jpg)\n"
   ]
  },
  {
   "cell_type": "markdown",
   "metadata": {
    "colab_type": "text",
    "id": "cYL72f6v0fIt"
   },
   "source": [
    "[site](https://www.pexels.com/search/beauty/)"
   ]
  },
  {
   "cell_type": "markdown",
   "metadata": {
    "colab_type": "text",
    "id": "YOmD2BI_3AFS"
   },
   "source": [
    "[site](https://www.kaggle.com/)"
   ]
  },
  {
   "cell_type": "markdown",
   "metadata": {
    "colab_type": "text",
    "id": "nQ932Zz13Fim"
   },
   "source": [
    "1. some text\n",
    "2. practicing"
   ]
  },
  {
   "cell_type": "markdown",
   "metadata": {
    "colab_type": "text",
    "id": "L19wD4fP3wKZ"
   },
   "source": [
    "\n",
    "\n",
    "    1.python\n",
    "      1. Python operators\n",
    "      2. Python Lists\n",
    "      3. Python Tuples\n",
    "      4. Python Sets\n",
    "      5. Python Dictionaries\n"
   ]
  },
  {
   "cell_type": "markdown",
   "metadata": {
    "colab_type": "text",
    "id": "wZ-UT8Qh3_Cm"
   },
   "source": [
    "- Types of flowers\n",
    "    - Rose\n",
    "    - Lilly\n",
    "    - Tulip\n",
    "- animals\n",
    "    - Monkey\n",
    "    - Donkey\n",
    "    - Lion"
   ]
  },
  {
   "cell_type": "markdown",
   "metadata": {
    "colab_type": "text",
    "id": "RsBLy37u40jd"
   },
   "source": [
    "**Anaconda - Python**"
   ]
  },
  {
   "cell_type": "markdown",
   "metadata": {
    "colab_type": "text",
    "id": "dCRjAc5k5Sgb"
   },
   "source": [
    "*Anaconda-Python*"
   ]
  },
  {
   "cell_type": "markdown",
   "metadata": {
    "colab_type": "text",
    "id": "Pb9T63KVL1Ym"
   },
   "source": [
    "# Arithmatic operations"
   ]
  },
  {
   "cell_type": "code",
   "execution_count": 0,
   "metadata": {
    "colab": {
     "base_uri": "https://localhost:8080/",
     "height": 136
    },
    "colab_type": "code",
    "id": "zF8kyRo4mNKr",
    "outputId": "a1bd14d0-1a0c-44be-82b8-c75c88907b1b"
   },
   "outputs": [
    {
     "name": "stdout",
     "output_type": "stream",
     "text": [
      "30\n",
      "-10\n",
      "200\n",
      "2.0\n",
      "0\n",
      "2\n",
      "32\n"
     ]
    }
   ],
   "source": [
    "a, b = 10,20\n",
    "add = a+b\n",
    "sub = a-b\n",
    "mul = a*b\n",
    "div = b/a\n",
    "modulus = b%a\n",
    "power = 2**5\n",
    "floor_division = b//a\n",
    "print(add)\n",
    "print(sub)\n",
    "print(mul)\n",
    "print(div)\n",
    "print(modulus)\n",
    "print(floor_division)\n",
    "print(power)"
   ]
  },
  {
   "cell_type": "markdown",
   "metadata": {
    "colab_type": "text",
    "id": "Tx376zAZnH1l"
   },
   "source": [
    "# Left to Right"
   ]
  },
  {
   "cell_type": "code",
   "execution_count": 0,
   "metadata": {
    "colab": {
     "base_uri": "https://localhost:8080/",
     "height": 34
    },
    "colab_type": "code",
    "id": "bKw8pNHNm-mI",
    "outputId": "af5b74e5-be73-4090-8da8-9cbaec4bdd62"
   },
   "outputs": [
    {
     "name": "stdout",
     "output_type": "stream",
     "text": [
      "8.0\n"
     ]
    }
   ],
   "source": [
    "#paranthesis,power,division, addition\n",
    "a = 1 + 2**3 / 4 + 5\n",
    "print(a)"
   ]
  },
  {
   "cell_type": "code",
   "execution_count": 0,
   "metadata": {
    "colab": {
     "base_uri": "https://localhost:8080/",
     "height": 34
    },
    "colab_type": "code",
    "id": "4LCX1O4JnzFn",
    "outputId": "0ce2ea6d-0ebd-4b16-babd-67b118186a4e"
   },
   "outputs": [
    {
     "name": "stdout",
     "output_type": "stream",
     "text": [
      "14.0\n"
     ]
    }
   ],
   "source": [
    "b = 1+2**4/2+5\n",
    "print(b)"
   ]
  },
  {
   "cell_type": "markdown",
   "metadata": {
    "colab_type": "text",
    "id": "C5AK8WXUoVih"
   },
   "source": [
    "# Logical Operations"
   ]
  },
  {
   "cell_type": "code",
   "execution_count": 0,
   "metadata": {
    "colab": {
     "base_uri": "https://localhost:8080/",
     "height": 68
    },
    "colab_type": "code",
    "id": "4o1Hx-ZLoO_Z",
    "outputId": "9a69aa33-5bd7-4978-ca7d-33738ff82ae1"
   },
   "outputs": [
    {
     "name": "stdout",
     "output_type": "stream",
     "text": [
      "True\n",
      "True\n",
      "False\n"
     ]
    }
   ],
   "source": [
    "a = 32\n",
    "b = 12\n",
    "print(a>=20 and b<=10)\n",
    "print(a>=10 or b<=20)\n",
    "print(not a>b)"
   ]
  },
  {
   "cell_type": "markdown",
   "metadata": {
    "colab_type": "text",
    "id": "2LELlPfppA10"
   },
   "source": [
    "# Relational Operations"
   ]
  },
  {
   "cell_type": "code",
   "execution_count": 0,
   "metadata": {
    "colab": {
     "base_uri": "https://localhost:8080/",
     "height": 51
    },
    "colab_type": "code",
    "id": "srn3rK1Ioxa9",
    "outputId": "e1880a13-92b4-4691-fff6-0ec598dba4df"
   },
   "outputs": [
    {
     "name": "stdout",
     "output_type": "stream",
     "text": [
      "False\n",
      "True\n"
     ]
    }
   ],
   "source": [
    "a=10\n",
    "b=20\n",
    "print(a==b)\n",
    "print(a!=b)"
   ]
  },
  {
   "cell_type": "markdown",
   "metadata": {
    "colab_type": "text",
    "id": "TjGm1jsopdQR"
   },
   "source": [
    "# Membership Operators"
   ]
  },
  {
   "cell_type": "code",
   "execution_count": 0,
   "metadata": {
    "colab": {
     "base_uri": "https://localhost:8080/",
     "height": 51
    },
    "colab_type": "code",
    "id": "PVIIbdcOpajC",
    "outputId": "e138331a-14cd-45c4-90c3-c866747522dc"
   },
   "outputs": [
    {
     "name": "stdout",
     "output_type": "stream",
     "text": [
      "False\n",
      "True\n"
     ]
    }
   ],
   "source": [
    "a=\"string\"\n",
    "b=\"string\"\n",
    "print(a not in b)\n",
    "print(a in b)\n"
   ]
  },
  {
   "cell_type": "markdown",
   "metadata": {
    "colab_type": "text",
    "id": "yjsF_0xKqHV0"
   },
   "source": [
    "# Indexing and Slicing"
   ]
  },
  {
   "cell_type": "code",
   "execution_count": 0,
   "metadata": {
    "colab": {
     "base_uri": "https://localhost:8080/",
     "height": 119
    },
    "colab_type": "code",
    "id": "cZ5yAquRpyOH",
    "outputId": "e7943d0c-8b2e-441c-f332-19ccd43b1bd0"
   },
   "outputs": [
    {
     "name": "stdout",
     "output_type": "stream",
     "text": [
      "<class 'str'>\n",
      "5\n",
      "H\n",
      "Hello\n",
      "llo\n",
      "olleH\n"
     ]
    }
   ],
   "source": [
    "s1=\"Hello\"\n",
    "print(type(s1))\n",
    "print(len(s1))\n",
    "print(s1[0])\n",
    "print(s1[:])\n",
    "print(s1[2:])\n",
    "print(s1[::-1])"
   ]
  },
  {
   "cell_type": "code",
   "execution_count": 0,
   "metadata": {
    "colab": {
     "base_uri": "https://localhost:8080/",
     "height": 51
    },
    "colab_type": "code",
    "id": "z_2afHgUqdCF",
    "outputId": "e9abaec3-a06e-4a61-e78e-ea76a9ed3c21"
   },
   "outputs": [
    {
     "name": "stdout",
     "output_type": "stream",
     "text": [
      "enter a value:2\n",
      "2\n"
     ]
    }
   ],
   "source": [
    "a = int(input(\"enter a value:\"))\n",
    "print(a)"
   ]
  },
  {
   "cell_type": "code",
   "execution_count": 0,
   "metadata": {
    "colab": {
     "base_uri": "https://localhost:8080/",
     "height": 187
    },
    "colab_type": "code",
    "id": "KSudd8AcrXpe",
    "outputId": "7bb4e2eb-8c85-4558-f346-2a2c6e4fe480"
   },
   "outputs": [
    {
     "name": "stdout",
     "output_type": "stream",
     "text": [
      "14\n",
      "m\n",
      "o\n",
      "Py\n",
      "Py\n",
      "ram\n",
      "ython Progra\n",
      "P\n",
      "margorP nohtyP\n",
      "margorP nohtyP\n"
     ]
    }
   ],
   "source": [
    "# String examples\n",
    "s1 = \"Python Program\"\n",
    "print(len(s1))\n",
    "print(s1[-1])\n",
    "print(s1[-5])\n",
    "print(s1[0:2])\n",
    "print(s1[:2])\n",
    "print(s1[-3:])\n",
    "print(s1[1:-1])\n",
    "print(s1[len(s1)//2])\n",
    "print(s1[::-1])\n",
    "print(s1[-1::-1])\n"
   ]
  },
  {
   "cell_type": "markdown",
   "metadata": {
    "colab_type": "text",
    "id": "kUGw36U6xqcG"
   },
   "source": [
    "# String Built-in Methods"
   ]
  },
  {
   "cell_type": "code",
   "execution_count": 0,
   "metadata": {
    "colab": {
     "base_uri": "https://localhost:8080/",
     "height": 136
    },
    "colab_type": "code",
    "id": "Wx_vrIartBKG",
    "outputId": "f20e8a4e-62cf-46c6-cd65-e8de175c4c34"
   },
   "outputs": [
    {
     "name": "stdout",
     "output_type": "stream",
     "text": [
      "python\n",
      "PROGRAM\n",
      "P,r,o,g,r,a,m\n",
      "P-r-o-g-r-a-m\n",
      "P r o g r a m\n",
      "['Python', 'is', 'a', 'programming', 'language']\n",
      "Abthon is a programming language\n"
     ]
    }
   ],
   "source": [
    "#lower\n",
    "string = \"PYTHON\"\n",
    "string2 = \"Program\"\n",
    "s1 = string.lower()\n",
    "print(s1)\n",
    "#upper\n",
    "print(string2.upper())\n",
    "#join\n",
    "print(\",\".join(string2))\n",
    "print(\"-\".join(string2))\n",
    "print(\" \".join(string2))\n",
    "#split\n",
    "str2 = \"Python is a programming language\"\n",
    "print(str2.split())\n",
    "#replace\n",
    "print(str2.replace(\"Py\",\"Ab\"))\n"
   ]
  },
  {
   "cell_type": "code",
   "execution_count": 0,
   "metadata": {
    "colab": {
     "base_uri": "https://localhost:8080/",
     "height": 34
    },
    "colab_type": "code",
    "id": "nGNIn0gTwm6X",
    "outputId": "1ac38717-80c9-42a9-f1b2-d543bc182f75"
   },
   "outputs": [
    {
     "name": "stdout",
     "output_type": "stream",
     "text": [
      "5\n"
     ]
    }
   ],
   "source": [
    "print(int(5.5))"
   ]
  },
  {
   "cell_type": "code",
   "execution_count": 0,
   "metadata": {
    "colab": {
     "base_uri": "https://localhost:8080/",
     "height": 34
    },
    "colab_type": "code",
    "id": "QMyf6Dis-aC7",
    "outputId": "d7725a9e-d426-4df3-afc8-bf76ee87690f"
   },
   "outputs": [
    {
     "name": "stdout",
     "output_type": "stream",
     "text": [
      "<class 'float'>\n"
     ]
    }
   ],
   "source": [
    "print(type(5.6))"
   ]
  },
  {
   "cell_type": "code",
   "execution_count": 0,
   "metadata": {
    "colab": {
     "base_uri": "https://localhost:8080/",
     "height": 34
    },
    "colab_type": "code",
    "id": "GiR6bxut-jfS",
    "outputId": "0a04cad3-06bf-4263-8f8a-1a17f240216b"
   },
   "outputs": [
    {
     "name": "stdout",
     "output_type": "stream",
     "text": [
      "yhn\n"
     ]
    }
   ],
   "source": [
    "string = \"Python\"\n",
    "print(string[1::2])"
   ]
  },
  {
   "cell_type": "code",
   "execution_count": 0,
   "metadata": {
    "colab": {
     "base_uri": "https://localhost:8080/",
     "height": 34
    },
    "colab_type": "code",
    "id": "q6k_9HC4AofU",
    "outputId": "d73ab098-5de7-4598-bfab-3a2404e96c2e"
   },
   "outputs": [
    {
     "name": "stdout",
     "output_type": "stream",
     "text": [
      "nhy\n"
     ]
    }
   ],
   "source": [
    "string = \"Python\"\n",
    "print(string[-1::-2])"
   ]
  },
  {
   "cell_type": "code",
   "execution_count": 0,
   "metadata": {
    "colab": {},
    "colab_type": "code",
    "id": "5GBre7SCBnsE"
   },
   "outputs": [],
   "source": [
    "x=20\n",
    "y=30\n",
    "if x>y:\n",
    "  print(\"False\")\n",
    "else:\n",
    "  print(\"True\")"
   ]
  },
  {
   "cell_type": "code",
   "execution_count": 0,
   "metadata": {
    "colab": {
     "base_uri": "https://localhost:8080/",
     "height": 51
    },
    "colab_type": "code",
    "id": "FER0mvadFvYM",
    "outputId": "eeb41087-e932-4948-f6fb-12386b32bb2f"
   },
   "outputs": [
    {
     "name": "stdout",
     "output_type": "stream",
     "text": [
      "enter a number7\n",
      "Given number is not divisible by 3 and 5\n"
     ]
    }
   ],
   "source": [
    "n = int(input(\"enter a number\"))\n",
    "if n%3==0 and n%5==0:\n",
    "  print(\"Given number is divisible by 3 and 5\")\n",
    "else:\n",
    "  print(\"Given number is not divisible by 3 and 5\")"
   ]
  },
  {
   "cell_type": "code",
   "execution_count": 0,
   "metadata": {
    "colab": {
     "base_uri": "https://localhost:8080/",
     "height": 51
    },
    "colab_type": "code",
    "id": "D4Y8pqWiGS9B",
    "outputId": "43608a4f-7999-4384-be9d-2fd4b32ad692"
   },
   "outputs": [
    {
     "name": "stdout",
     "output_type": "stream",
     "text": [
      "enter a number3\n",
      "Odd\n"
     ]
    }
   ],
   "source": [
    "n = int(input(\"enter a number\"))\n",
    "if n%2==0:\n",
    "  print(\"Even\")\n",
    "else:\n",
    "  print(\"Odd\")"
   ]
  },
  {
   "cell_type": "code",
   "execution_count": 0,
   "metadata": {
    "colab": {
     "base_uri": "https://localhost:8080/",
     "height": 34
    },
    "colab_type": "code",
    "id": "IW5XIYG7K58_",
    "outputId": "d77c1d3f-b392-4c06-fdac-3ad1e43985a4"
   },
   "outputs": [
    {
     "data": {
      "text/plain": [
       "False"
      ]
     },
     "execution_count": 5,
     "metadata": {
      "tags": []
     },
     "output_type": "execute_result"
    }
   ],
   "source": [
    "2==\"positive\""
   ]
  },
  {
   "cell_type": "code",
   "execution_count": 0,
   "metadata": {
    "colab": {
     "base_uri": "https://localhost:8080/",
     "height": 51
    },
    "colab_type": "code",
    "id": "Dx3PtK4XHBeq",
    "outputId": "71272c97-ab74-43a9-e3f6-e27d7af2a931"
   },
   "outputs": [
    {
     "name": "stdout",
     "output_type": "stream",
     "text": [
      "enter a number0\n",
      "zero\n"
     ]
    }
   ],
   "source": [
    "n = int(input(\"enter a number\"))\n",
    "if n>0:\n",
    "  print(\"positive\")\n",
    "elif n<0:\n",
    "  print(\"negative\")\n",
    "else:\n",
    "  print(\"zero\")\n"
   ]
  },
  {
   "cell_type": "code",
   "execution_count": 0,
   "metadata": {
    "colab": {},
    "colab_type": "code",
    "id": "_Qzr4Nb7L1ss"
   },
   "outputs": [],
   "source": [
    "#print the sum of even numbers in a given range:\n",
    "n = int(input(\"enter limit:\"))\n",
    "i = 1\n",
    "sum = 0\n",
    "while(i<=n):\n",
    "  if(i%2==0):\n",
    "    print(i+\"is a even number\")\n",
    "    sum = sum+i\n",
    "  else:\n",
    "    print(i+\"is a odd number\")\n",
    "  i = i+1\n",
    "print(sum)\n",
    "    "
   ]
  },
  {
   "cell_type": "code",
   "execution_count": 0,
   "metadata": {
    "colab": {},
    "colab_type": "code",
    "id": "3JiOBwxIP0vh"
   },
   "outputs": [],
   "source": [
    "n = 123\n",
    "while n!=0:\n",
    "  print(n%10, end=\" \")\n",
    "  n = n//10\n",
    "  "
   ]
  },
  {
   "cell_type": "code",
   "execution_count": 0,
   "metadata": {
    "colab": {},
    "colab_type": "code",
    "id": "NEs6fa6sTnZm"
   },
   "outputs": [],
   "source": [
    "# break\n",
    "n = 10\n",
    "for i in range(1,n+1):\n",
    "  print(i,ends=\" \")\n",
    "  if i==5:\n",
    "    break"
   ]
  },
  {
   "cell_type": "code",
   "execution_count": 0,
   "metadata": {
    "colab": {},
    "colab_type": "code",
    "id": "kQ7Va2fgWNDX"
   },
   "outputs": [],
   "source": [
    "# continue\n",
    "n = 10\n",
    "for i in range(1,n+1):\n",
    "  if i==5:\n",
    "    continue\n",
    "    print(i,ends=\" \")"
   ]
  },
  {
   "cell_type": "code",
   "execution_count": 0,
   "metadata": {
    "colab": {},
    "colab_type": "code",
    "id": "mHojsR3Bpdga"
   },
   "outputs": [],
   "source": [
    "L = [\"string\",'c',10,20.4,2+3j,True]\n",
    "#slicing\n",
    "print(L[2:])\n",
    "print(L[:])\n",
    "#indexing\n",
    "L[3]"
   ]
  },
  {
   "cell_type": "code",
   "execution_count": 0,
   "metadata": {
    "colab": {},
    "colab_type": "code",
    "id": "oFBnSBqqp6tv"
   },
   "outputs": [],
   "source": [
    "list = []\n",
    "list[0] = True\n",
    "list[1] = \"Ravi\"\n",
    "list[2] = 10\n",
    "list[3] = 34.2\n",
    "list[4] = 2+3j\n",
    "print(list)\n",
    "print(list[1:-1])\n",
    "print(list[-2])"
   ]
  },
  {
   "cell_type": "code",
   "execution_count": 0,
   "metadata": {
    "colab": {},
    "colab_type": "code",
    "id": "-kqQ_L37qP-M"
   },
   "outputs": [],
   "source": [
    "#append\n",
    "l=[1,2,3,4,5]\n",
    "len(l)\n",
    "l.append(7)\n",
    "print(l)\n",
    "#insert\n",
    "l.insert(1,'9')\n",
    "print(l)\n",
    "#delete\n",
    "del(l[1])\n",
    "print(l)\n",
    "for i in l:\n",
    "  print(l)"
   ]
  },
  {
   "cell_type": "code",
   "execution_count": 0,
   "metadata": {
    "colab": {},
    "colab_type": "code",
    "id": "XWMGj0mKulAU"
   },
   "outputs": [],
   "source": [
    "l = [1,2,3,3,4,5,65]\n",
    "print(6 in l)\n",
    "print(6 not in l)"
   ]
  },
  {
   "cell_type": "code",
   "execution_count": 0,
   "metadata": {
    "colab": {},
    "colab_type": "code",
    "id": "DfmZD6ELyF0y"
   },
   "outputs": [],
   "source": [
    "l = [10,20,30,40,50,60]\n",
    "print(l[::2])\n",
    "print(l[::-1])\n",
    "l.count(10)\n",
    "l.sort()\n",
    "l.value_count()"
   ]
  },
  {
   "cell_type": "code",
   "execution_count": 0,
   "metadata": {
    "colab": {},
    "colab_type": "code",
    "id": "6jQoN3cCySGi"
   },
   "outputs": [],
   "source": [
    "#maximum value and minimum value\n",
    "l = [1,3,6,8,9]\n",
    "print(max(l))\n",
    "print(min(l))\n",
    "print(sum(l)) #sum"
   ]
  },
  {
   "cell_type": "code",
   "execution_count": 0,
   "metadata": {
    "colab": {},
    "colab_type": "code",
    "id": "JDqr9hux2ggJ"
   },
   "outputs": [],
   "source": [
    "l = [3,9.8,\"string\",'c',True]\n",
    "print(max(l))"
   ]
  },
  {
   "cell_type": "code",
   "execution_count": 0,
   "metadata": {
    "colab": {},
    "colab_type": "code",
    "id": "9PfpPJtu21XU"
   },
   "outputs": [],
   "source": [
    "#extend\n",
    "l1 = [2,45,67,89,90]\n",
    "l2 = [34,56,78,9,7]\n",
    "l1.extend(l2)\n",
    "print(l1)\n",
    "d[45]"
   ]
  },
  {
   "cell_type": "code",
   "execution_count": 0,
   "metadata": {
    "colab": {},
    "colab_type": "code",
    "id": "sFNKPXWu9Z6Z"
   },
   "outputs": [],
   "source": [
    "#append\n",
    "l1 = [2,45,67,89,90]\n",
    "l2 = [34,56,78,9,7]\n",
    "l1.append(l2)\n",
    "print(l1)"
   ]
  },
  {
   "cell_type": "code",
   "execution_count": 0,
   "metadata": {
    "colab": {},
    "colab_type": "code",
    "id": "22zC-FmEQ0oE"
   },
   "outputs": [],
   "source": [
    "i=2\n",
    "while(i=1):\n",
    "  print(i)"
   ]
  },
  {
   "cell_type": "code",
   "execution_count": 0,
   "metadata": {
    "colab": {
     "base_uri": "https://localhost:8080/",
     "height": 248
    },
    "colab_type": "code",
    "id": "plsBm3yb9f4C",
    "outputId": "5dc6bd9f-90a9-4dd1-d166-f153eb4799fc"
   },
   "outputs": [
    {
     "name": "stdout",
     "output_type": "stream",
     "text": [
      "[2, 45, 67, 89]\n"
     ]
    },
    {
     "ename": "TypeError",
     "evalue": "ignored",
     "output_type": "error",
     "traceback": [
      "\u001b[0;31m---------------------------------------------------------------------------\u001b[0m",
      "\u001b[0;31mTypeError\u001b[0m                                 Traceback (most recent call last)",
      "\u001b[0;32m<ipython-input-1-c49ddd1ca8df>\u001b[0m in \u001b[0;36m<module>\u001b[0;34m()\u001b[0m\n\u001b[1;32m      3\u001b[0m \u001b[0mprint\u001b[0m\u001b[0;34m(\u001b[0m\u001b[0ml1\u001b[0m\u001b[0;34m)\u001b[0m\u001b[0;34m\u001b[0m\u001b[0;34m\u001b[0m\u001b[0m\n\u001b[1;32m      4\u001b[0m \u001b[0;31m#remove\u001b[0m\u001b[0;34m\u001b[0m\u001b[0;34m\u001b[0m\u001b[0;34m\u001b[0m\u001b[0m\n\u001b[0;32m----> 5\u001b[0;31m \u001b[0ml1\u001b[0m\u001b[0;34m.\u001b[0m\u001b[0mremove\u001b[0m\u001b[0;34m(\u001b[0m\u001b[0;34m)\u001b[0m\u001b[0;34m\u001b[0m\u001b[0;34m\u001b[0m\u001b[0m\n\u001b[0m\u001b[1;32m      6\u001b[0m \u001b[0mprint\u001b[0m\u001b[0;34m(\u001b[0m\u001b[0ml1\u001b[0m\u001b[0;34m)\u001b[0m\u001b[0;34m\u001b[0m\u001b[0;34m\u001b[0m\u001b[0m\n\u001b[1;32m      7\u001b[0m \u001b[0;31m#index\u001b[0m\u001b[0;34m\u001b[0m\u001b[0;34m\u001b[0m\u001b[0;34m\u001b[0m\u001b[0m\n",
      "\u001b[0;31mTypeError\u001b[0m: remove() takes exactly one argument (0 given)"
     ]
    }
   ],
   "source": [
    "#pop\n",
    "l1 = [2,45,67,89,90]\n",
    "l1.pop()\n",
    "print(l1)\n",
    "#remove\n",
    "l1.remove()\n",
    "print(l1)\n",
    "#index\n",
    "l1.index()"
   ]
  },
  {
   "cell_type": "code",
   "execution_count": 0,
   "metadata": {
    "colab": {},
    "colab_type": "code",
    "id": "ADU8UhagIwKX"
   },
   "outputs": [],
   "source": [
    "def swap-string(i,j):\n",
    "  new_string = i[:2]+j[2:]\n",
    "print(new_string)"
   ]
  }
 ],
 "metadata": {
  "colab": {
   "collapsed_sections": [],
   "name": "python.ipynb",
   "provenance": []
  },
  "kernelspec": {
   "display_name": "Python 3",
   "language": "python",
   "name": "python3"
  },
  "language_info": {
   "codemirror_mode": {
    "name": "ipython",
    "version": 3
   },
   "file_extension": ".py",
   "mimetype": "text/x-python",
   "name": "python",
   "nbconvert_exporter": "python",
   "pygments_lexer": "ipython3",
   "version": "3.6.5"
  }
 },
 "nbformat": 4,
 "nbformat_minor": 1
}
