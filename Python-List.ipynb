{
 "cells": [
  {
   "cell_type": "markdown",
   "metadata": {},
   "source": [
    "### Lists"
   ]
  },
  {
   "cell_type": "code",
   "execution_count": 27,
   "metadata": {},
   "outputs": [
    {
     "name": "stdout",
     "output_type": "stream",
     "text": [
      "0100,0011,1010,1001\n",
      "1010\n"
     ]
    }
   ],
   "source": [
    "# Write a program which accepts a sequence of comma separated 4 digit binary numbers as its input and check whether they are \n",
    "# divisible by 5 or not.The numbers that are divisible by 5 are to be printed in a comma separated sequence.\n",
    "# i/p : 0100,0011,1010,1001\n",
    "# o/p : 1010\n",
    "\n",
    "# Pseudo code:\n",
    "\n",
    "\n",
    "\n",
    "\n",
    "\n",
    "\n",
    "value = []\n",
    "items = [x for x in input().split(',')]\n",
    "for i in items:\n",
    "    new_i = int(i,2)\n",
    "    if not new_i%5:\n",
    "        value.append(i)\n",
    "#value \n",
    "print(','.join(value))"
   ]
  },
  {
   "cell_type": "code",
   "execution_count": 62,
   "metadata": {},
   "outputs": [
    {
     "name": "stdout",
     "output_type": "stream",
     "text": [
      "[(115, 32), (96, 90), (152, 84)]\n"
     ]
    }
   ],
   "source": [
    "#Tuple list cross multiplication\n",
    "\n",
    "#Pseudo code:\n",
    "\n",
    "def prod(num):\n",
    "    res = 1\n",
    "    for i in num:\n",
    "        res *=i\n",
    "    return res\n",
    "list1 = [(2,4), (6,7), (1,5)]\n",
    "list1 = [(23,8), (12,9), (19,6)]\n",
    "result = [tuple(map(prod, zip(x,y))) for x, y in zip(list1,list2)]\n",
    "print(result)"
   ]
  },
  {
   "cell_type": "code",
   "execution_count": 66,
   "metadata": {},
   "outputs": [
    {
     "name": "stdout",
     "output_type": "stream",
     "text": [
      "[[50, 60, 80], [140, 80, 60], [240, 300, 360]]\n"
     ]
    }
   ],
   "source": [
    "#Custom Multiplication in list of list:\n",
    "\n",
    "#Pseudo code:\n",
    "\n",
    "li = [[5,6,8], [7,4,3], [8,10,12]]\n",
    "mult_list = [10,20,30]\n",
    "result = [[] for i in range(len(li))]\n",
    "for i in range(len(li)):\n",
    "    for j in range(len(mult_list)):\n",
    "        #print(li[i][j])\n",
    "        result[i] += [mult_list[i]*li[i][j]]\n",
    "print(result)"
   ]
  },
  {
   "cell_type": "code",
   "execution_count": 78,
   "metadata": {},
   "outputs": [
    {
     "name": "stdout",
     "output_type": "stream",
     "text": [
      "[[114, 160, 60], [74, 97, 73], [119, 157, 112]]\n"
     ]
    }
   ],
   "source": [
    "#Multiplication of two matrices by each other of size 3x3\n",
    "\n",
    "#Pseudo code:\n",
    "\n",
    "m1 = [[12,7,3],\n",
    "      [4,5,6],\n",
    "      [7,8,9]]\n",
    "\n",
    "m2 = [[5,8,1],\n",
    "      [6,7,3],\n",
    "      [4,5,9]]\n",
    "result = [[0 for x in range(3)] for y in range(3)]\n",
    "for i in range(len(m1)):\n",
    "    for j in range(len(m2[0])):\n",
    "        for k in range(len(m2)):\n",
    "            result[i][j] += m1[i][k]*m2[k][j]\n",
    "print(result)"
   ]
  },
  {
   "cell_type": "code",
   "execution_count": 85,
   "metadata": {},
   "outputs": [
    {
     "name": "stdout",
     "output_type": "stream",
     "text": [
      "[('ram', '15', '8'), ('laxman', 'sita'), ('krishna', 'akbar', '45'), ('', '')]\n"
     ]
    }
   ],
   "source": [
    "list1 = [(), ('ram','15','8'), (), ('laxman', 'sita'),  \n",
    "          ('krishna', 'akbar', '45'), ('',''),()] \n",
    "def remove_empty(tuples):\n",
    "    tuples = [t for t in tuples if t]\n",
    "    return tuples\n",
    "print(remove_empty(list1))"
   ]
  },
  {
   "cell_type": "code",
   "execution_count": 89,
   "metadata": {},
   "outputs": [
    {
     "name": "stdout",
     "output_type": "stream",
     "text": [
      "[['Difficult', 'and', 'meaningful', 'will', 'always'], ['bring', 'more', 'satisfaction', 'than', 'easy'], ['and', 'meaningless']]\n"
     ]
    }
   ],
   "source": [
    "# Break a list into chunks of size N \n",
    "# The yield keyword enables a function to comeback where it left off when it is called again\n",
    "my_list = ['Difficult','and','meaningful','will','always','bring','more','satisfaction','than','easy','and','meaningless']\n",
    "def divide_chunks(l,n):\n",
    "    #looping till length l\n",
    "    for i in range(0,len(l),n):\n",
    "        yield l[i:i+n]\n",
    "n=5\n",
    "x = list(divide_chunks(my_list, n))\n",
    "print(x)"
   ]
  },
  {
   "cell_type": "code",
   "execution_count": 95,
   "metadata": {},
   "outputs": [
    {
     "name": "stdout",
     "output_type": "stream",
     "text": [
      "['is']\n"
     ]
    }
   ],
   "source": [
    "# Tuple key detection from value list\n",
    "test_list = [('abc',[1,2,3]),('is',[5,4,6]),('best',[11,7,3])]\n",
    "k =4\n",
    "result = [sub[0] for sub in test_list if k in sub[1]]\n",
    "print(str(result))"
   ]
  },
  {
   "cell_type": "code",
   "execution_count": 98,
   "metadata": {},
   "outputs": [
    {
     "name": "stdout",
     "output_type": "stream",
     "text": [
      "['1', '4', '9', '10', '19']\n",
      "[['5', '6', '8'], ['8', '5', '3'], ['9', '10', '3']]\n"
     ]
    }
   ],
   "source": [
    "# Type casting whole list and matrix\n",
    "test_list = [1,4,9,10,19]\n",
    "test_matrix = [[5,6,8],\n",
    "               [8,5,3],\n",
    "               [9,10,3]]\n",
    "def cast_list(t_list, data_type):\n",
    "    return list(map(data_type, t_list))\n",
    "def cast_matrix(t_matrix, data_type):\n",
    "    return list(map(lambda sub: list(map(data_type, sub)),t_matrix))\n",
    "result_list = cast_list(test_list, str)\n",
    "result_matrix = cast_matrix(test_matrix, str)\n",
    "print(result_list)\n",
    "print(result_matrix)"
   ]
  },
  {
   "cell_type": "code",
   "execution_count": null,
   "metadata": {},
   "outputs": [],
   "source": []
  }
 ],
 "metadata": {
  "kernelspec": {
   "display_name": "Python 3",
   "language": "python",
   "name": "python3"
  },
  "language_info": {
   "codemirror_mode": {
    "name": "ipython",
    "version": 3
   },
   "file_extension": ".py",
   "mimetype": "text/x-python",
   "name": "python",
   "nbconvert_exporter": "python",
   "pygments_lexer": "ipython3",
   "version": "3.6.5"
  }
 },
 "nbformat": 4,
 "nbformat_minor": 2
}
